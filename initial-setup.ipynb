{
 "cells": [
  {
   "cell_type": "markdown",
   "metadata": {},
   "source": [
    "This notebook demonstrates accessing LLM in local machine using Ollama interface"
   ]
  },
  {
   "cell_type": "code",
   "execution_count": 1,
   "metadata": {},
   "outputs": [
    {
     "name": "stdout",
     "output_type": "stream",
     "text": [
      "Available models: models=[Model(model='llama3.2:1b', modified_at=datetime.datetime(2024, 12, 13, 9, 56, 11, 574328, tzinfo=TzInfo(+11:00)), digest='baf6a787fdffd633537aa2eb51cfd54cb93ff08e28040095462bb63daf552878', size=1321098329, details=ModelDetails(parent_model='', format='gguf', family='llama', families=['llama'], parameter_size='1.2B', quantization_level='Q8_0'))]\n"
     ]
    }
   ],
   "source": [
    "import ollama\n",
    "\n",
    "# Check available models\n",
    "models = ollama.list()\n",
    "print(\"Available models:\", models)"
   ]
  },
  {
   "cell_type": "code",
   "execution_count": 2,
   "metadata": {},
   "outputs": [
    {
     "name": "stdout",
     "output_type": "stream",
     "text": [
      "Model Response:\n",
      " The color of the sky is a fascinating topic. The sky appears blue to us because of a phenomenon called Rayleigh scattering, named after the British physicist Lord Rayleigh, who first described it in the late 19th century.\n",
      "\n",
      "Here's what happens: when sunlight enters Earth's atmosphere, it encounters tiny molecules of gases such as nitrogen and oxygen. These molecules scatter the light in all directions, but they scatter shorter (blue) wavelengths more than longer (red) wavelengths. This is because the smaller particles are more effective at scattering the blue light.\n",
      "\n",
      "As a result, the blue light is distributed throughout the sky, giving it its characteristic blue color. The amount of scattering that occurs depends on the altitude and density of the atmosphere, but in general, the sky appears blue when it's high above the ground and not too far away from the observer.\n",
      "\n",
      "It's worth noting that the color of the sky can also be affected by other factors, such as:\n",
      "\n",
      "* Dust and pollution: Tiny particles in the air can scatter light and give the sky a hazy or gray appearance.\n",
      "* Water vapor: High levels of water vapor in the atmosphere can cause the sky to appear white or cloudy.\n",
      "* Clouds: Thick clouds can block some of the sunlight and scatter the blue color, making them appear more opaque or gray.\n",
      "\n",
      "Overall, the sky's blue color is a beautiful result of the way light interacts with our atmosphere, and it's a constant reminder of the awe-inspiring beauty of the natural world.\n"
     ]
    }
   ],
   "source": [
    "model_name = \"llama3.2:1b\"\n",
    "\n",
    "# Generate text from the model\n",
    "def generate_response(prompt, model=model_name):\n",
    "    response = ollama.chat(\n",
    "        model=model,\n",
    "        messages=[{\"role\": \"user\", \"content\": prompt}]\n",
    "    )\n",
    "    return response[\"message\"][\"content\"]\n",
    "\n",
    "# Example Usage\n",
    "user_prompt = \"Why is sky blue in colour?\"\n",
    "response = generate_response(user_prompt)\n",
    "print(\"Model Response:\\n\", response)"
   ]
  },
  {
   "cell_type": "code",
   "execution_count": null,
   "metadata": {},
   "outputs": [],
   "source": []
  }
 ],
 "metadata": {
  "kernelspec": {
   "display_name": "py312",
   "language": "python",
   "name": "python3"
  },
  "language_info": {
   "codemirror_mode": {
    "name": "ipython",
    "version": 3
   },
   "file_extension": ".py",
   "mimetype": "text/x-python",
   "name": "python",
   "nbconvert_exporter": "python",
   "pygments_lexer": "ipython3",
   "version": "3.12.7"
  }
 },
 "nbformat": 4,
 "nbformat_minor": 2
}
